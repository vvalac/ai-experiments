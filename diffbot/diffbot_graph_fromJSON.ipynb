{
 "cells": [
  {
   "cell_type": "code",
   "execution_count": null,
   "metadata": {},
   "outputs": [],
   "source": [
    "#%pip install --upgrade --quiet  langchain langchain-core langchain-experimental langchain-openai neo4j wikipedia"
   ]
  },
  {
   "cell_type": "markdown",
   "metadata": {},
   "source": [
    "#### Initiate environment and set example query"
   ]
  },
  {
   "cell_type": "code",
   "execution_count": 1,
   "metadata": {},
   "outputs": [],
   "source": [
    "import dotenv\n",
    "import os\n",
    "import requests\n",
    "import json\n",
    "from langchain_experimental.graph_transformers.diffbot import DiffbotGraphTransformer"
   ]
  },
  {
   "cell_type": "code",
   "execution_count": 2,
   "metadata": {},
   "outputs": [],
   "source": [
    "dotenv.load_dotenv()\n",
    "DIFFBOT_API_KEY = os.environ['DIFFBOT_API_KEY']\n",
    "OPENAI_API_KEY = os.environ['OPENAI_API_KEY']"
   ]
  },
  {
   "cell_type": "code",
   "execution_count": 3,
   "metadata": {},
   "outputs": [],
   "source": [
    "DIFFBOT_NLP = DiffbotGraphTransformer(diffbot_api_key=DIFFBOT_API_KEY)\n",
    "FIELDS = \"entities, sentiment, facts\"\n",
    "HOST = \"nl.diffbot.com\"\n",
    "API = \"analyze\"\n",
    "TARGET = \"https://www.dell.com/en-us/dt/corporate/about-us/leadership/michael-dell.htm\""
   ]
  },
  {
   "cell_type": "code",
   "execution_count": 25,
   "metadata": {},
   "outputs": [],
   "source": [
    "from langchain_core.documents import Document\n",
    "\n",
    "def transform_diffbot_to_langchain(diffbot_json):\n",
    "    if not diffbot_json.get('objects'):\n",
    "        print(\"ERROR: No Objects in Diffbot Return\")\n",
    "        return []\n",
    "\n",
    "    first_object = diffbot_json['objects'][0]\n",
    "    page_content = first_object.get('text', '')\n",
    "\n",
    "    metadata = {\n",
    "        'source': diffbot_json['request']['pageUrl'],\n",
    "        'sentiment': first_object.get('sentiment'),\n",
    "        'entities': [],\n",
    "        'categories': [],\n",
    "        'tags': [],\n",
    "        'images': [],\n",
    "    }\n",
    "\n",
    "    if 'tags' in first_object:\n",
    "        for tag in first_object['tags']:\n",
    "            metadata['entities'].append({\n",
    "                'label': tag['label'],\n",
    "                'uri': tag['uri'],\n",
    "                'sentiment': tag['sentiment'],\n",
    "                'rdfTypes': tag.get('rdfTypes', [])\n",
    "            })\n",
    "\n",
    "    if 'categories' in first_object:\n",
    "        for category in first_object['categories']:\n",
    "            metadata['categories'].append({\n",
    "                'name': category['name'],\n",
    "                'score': category['score'],\n",
    "                'id': category.get('id', '')\n",
    "            })\n",
    "\n",
    "    if 'images' in first_object:\n",
    "        metadata['images'] = [img['url'] for img in first_object['images']]\n",
    "\n",
    "    # Create a Document instance\n",
    "    langchain_document = [Document(\n",
    "        page_content=page_content,\n",
    "        metadata=metadata,\n",
    "    )]\n",
    "\n",
    "    return langchain_document\n",
    "\n",
    "# transformed_document = transform_diffbot_to_langchain(diffbot_json)\n"
   ]
  },
  {
   "cell_type": "code",
   "execution_count": 22,
   "metadata": {},
   "outputs": [],
   "source": [
    "def get_data(target=None, api=None):\n",
    "    api = api or API # null coalescing in case no API specified, default to analyze\n",
    "    target = target or TARGET\n",
    "    res = requests.get(f\"https://api.diffbot.com/v3/{api}?url={target}&token={DIFFBOT_API_KEY}\")\n",
    "    ret = None\n",
    "    try:\n",
    "        ret = res.json()\n",
    "    except:\n",
    "        print(\"Bad response: \" + res.text)\n",
    "        print(res.status_code)\n",
    "        print(res.headers)\n",
    "    return ret"
   ]
  },
  {
   "cell_type": "code",
   "execution_count": 23,
   "metadata": {},
   "outputs": [],
   "source": [
    "diffbot_json = get_data(TARGET, 'article')\n"
   ]
  },
  {
   "cell_type": "code",
   "execution_count": 26,
   "metadata": {},
   "outputs": [
    {
     "name": "stdout",
     "output_type": "stream",
     "text": []
    }
   ],
   "source": [
    "raw_documents = transform_diffbot_to_langchain(diffbot_json)\n",
    "print(raw_documents)"
   ]
  },
  {
   "cell_type": "code",
   "execution_count": 27,
   "metadata": {},
   "outputs": [],
   "source": [
    "graph_documents = DIFFBOT_NLP.convert_to_graph_documents(raw_documents)"
   ]
  },
  {
   "cell_type": "code",
   "execution_count": 28,
   "metadata": {},
   "outputs": [
    {
     "name": "stdout",
     "output_type": "stream",
     "text": []
    }
   ],
   "source": [
    "print(graph_documents)"
   ]
  },
  {
   "cell_type": "code",
   "execution_count": null,
   "metadata": {},
   "outputs": [],
   "source": [
    "# observe raw doc retrieval from wiki\n",
    "print(raw_documents)"
   ]
  },
  {
   "cell_type": "markdown",
   "metadata": {},
   "source": [
    "#### Load a docker container to explore graph via GUI"
   ]
  },
  {
   "cell_type": "code",
   "execution_count": null,
   "metadata": {},
   "outputs": [],
   "source": [
    "# get a docker going via CLI\n",
    "# docker run \\\n",
    "#    --name neo4j \\\n",
    "#    -p 7474:7474 -p 7687:7687 \\\n",
    "#    -d \\\n",
    "#    -e NEO4J_AUTH=neo4j/pleaseletmein \\\n",
    "#    -e NEO4J_PLUGINS=\\[\\\"apoc\\\"\\]  \\\n",
    "#    neo4j:latest"
   ]
  },
  {
   "cell_type": "code",
   "execution_count": null,
   "metadata": {},
   "outputs": [],
   "source": [
    "from langchain_community.graphs import Neo4jGraph\n",
    "\n",
    "# if running docker in WSL, command wsl hostname -I to get WSL IP\n",
    "# neo4j gui port is 7474\n",
    "docker_ip = 'localhost'\n",
    "url = f\"bolt://{docker_ip}:7687\"\n",
    "username = \"neo4j\"\n",
    "password = \"pleaseletmein\"\n",
    "\n",
    "graph = Neo4jGraph(url=url, username=username, password=password)"
   ]
  },
  {
   "cell_type": "markdown",
   "metadata": {},
   "source": [
    "Load GraphDocuments into the docker knowledge graph then refresh graph schema"
   ]
  },
  {
   "cell_type": "code",
   "execution_count": null,
   "metadata": {},
   "outputs": [],
   "source": [
    "graph.add_graph_documents(graph_documents)"
   ]
  },
  {
   "cell_type": "code",
   "execution_count": null,
   "metadata": {},
   "outputs": [],
   "source": [
    "graph.refresh_schema()"
   ]
  },
  {
   "cell_type": "code",
   "execution_count": null,
   "metadata": {},
   "outputs": [],
   "source": [
    "print(graph.schema)"
   ]
  },
  {
   "cell_type": "code",
   "execution_count": null,
   "metadata": {},
   "outputs": [],
   "source": [
    "# test a graph query manually to verify connectivity before burning OpenAI calls\n",
    "graph.query(\n",
    "    \"\"\"\n",
    "MATCH p=()-[r:CHIEF_EXECUTIVE_OFFICER]->() RETURN p LIMIT 25\n",
    "\"\"\"\n",
    ")"
   ]
  },
  {
   "cell_type": "markdown",
   "metadata": {},
   "source": [
    "Log into Neo4J by navigating to http://\\{docker ip}/7474 and logging in with credentials set above. To view the graph, you can run a simple query of `MATCH (n) RETURN n LIMIT 25`"
   ]
  },
  {
   "cell_type": "markdown",
   "metadata": {},
   "source": [
    "#### Query the graph"
   ]
  },
  {
   "cell_type": "code",
   "execution_count": null,
   "metadata": {},
   "outputs": [],
   "source": [
    "from langchain.chains import GraphCypherQAChain\n",
    "from langchain_openai import ChatOpenAI\n",
    "\n",
    "chain = GraphCypherQAChain.from_llm(\n",
    "    cypher_llm=ChatOpenAI(temperature=0, model_name=\"gpt-4-0125-preview\"),\n",
    "    qa_llm=ChatOpenAI(temperature=.3, model_name=\"gpt-3.5-turbo\"),\n",
    "    graph=graph,\n",
    "    verbose=True,\n",
    ")"
   ]
  },
  {
   "cell_type": "code",
   "execution_count": null,
   "metadata": {},
   "outputs": [],
   "source": [
    "chain.run(\"Does Elon Musk have kids?\")\n"
   ]
  }
 ],
 "metadata": {
  "kernelspec": {
   "display_name": "saas-dev",
   "language": "python",
   "name": "python3"
  },
  "language_info": {
   "codemirror_mode": {
    "name": "ipython",
    "version": 3
   },
   "file_extension": ".py",
   "mimetype": "text/x-python",
   "name": "python",
   "nbconvert_exporter": "python",
   "pygments_lexer": "ipython3",
   "version": "3.11.5"
  }
 },
 "nbformat": 4,
 "nbformat_minor": 2
}
