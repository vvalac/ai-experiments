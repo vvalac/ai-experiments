{
 "cells": [
  {
   "cell_type": "code",
   "execution_count": null,
   "metadata": {},
   "outputs": [],
   "source": [
    "#%pip install --upgrade --quiet  langchain langchain-core langchain-experimental langchain-openai neo4j wikipedia"
   ]
  },
  {
   "cell_type": "markdown",
   "metadata": {},
   "source": [
    "#### Initiate environment and set example query"
   ]
  },
  {
   "cell_type": "code",
   "execution_count": 1,
   "metadata": {},
   "outputs": [],
   "source": [
    "import dotenv\n",
    "import os\n",
    "import requests\n",
    "import json\n",
    "from langchain_experimental.graph_transformers.diffbot import DiffbotGraphTransformer"
   ]
  },
  {
   "cell_type": "code",
   "execution_count": 2,
   "metadata": {},
   "outputs": [],
   "source": [
    "dotenv.load_dotenv()\n",
    "DIFFBOT_API_KEY = os.environ['DIFFBOT_API_KEY']\n",
    "OPENAI_API_KEY = os.environ['OPENAI_API_KEY']"
   ]
  },
  {
   "cell_type": "code",
   "execution_count": 3,
   "metadata": {},
   "outputs": [],
   "source": [
    "DIFFBOT_NLP = DiffbotGraphTransformer(diffbot_api_key=DIFFBOT_API_KEY)\n",
    "FIELDS = \"entities, sentiment, facts\"\n",
    "HOST = \"nl.diffbot.com\"\n",
    "API = \"analyze\"\n",
    "TARGET = \"https://www.dell.com/en-us/dt/corporate/about-us/leadership/michael-dell.htm\""
   ]
  },
  {
   "cell_type": "code",
   "execution_count": 25,
   "metadata": {},
   "outputs": [],
   "source": [
    "from langchain_core.documents import Document\n",
    "\n",
    "def transform_diffbot_to_langchain(diffbot_json):\n",
    "    if not diffbot_json.get('objects'):\n",
    "        print(\"ERROR: No Objects in Diffbot Return\")\n",
    "        return []\n",
    "\n",
    "    first_object = diffbot_json['objects'][0]\n",
    "    page_content = first_object.get('text', '')\n",
    "\n",
    "    metadata = {\n",
    "        'source': diffbot_json['request']['pageUrl'],\n",
    "        'sentiment': first_object.get('sentiment'),\n",
    "        'entities': [],\n",
    "        'categories': [],\n",
    "        'tags': [],\n",
    "        'images': [],\n",
    "    }\n",
    "\n",
    "    if 'tags' in first_object:\n",
    "        for tag in first_object['tags']:\n",
    "            metadata['entities'].append({\n",
    "                'label': tag['label'],\n",
    "                'uri': tag['uri'],\n",
    "                'sentiment': tag['sentiment'],\n",
    "                'rdfTypes': tag.get('rdfTypes', [])\n",
    "            })\n",
    "\n",
    "    if 'categories' in first_object:\n",
    "        for category in first_object['categories']:\n",
    "            metadata['categories'].append({\n",
    "                'name': category['name'],\n",
    "                'score': category['score'],\n",
    "                'id': category.get('id', '')\n",
    "            })\n",
    "\n",
    "    if 'images' in first_object:\n",
    "        metadata['images'] = [img['url'] for img in first_object['images']]\n",
    "\n",
    "    # Create a Document instance\n",
    "    langchain_document = [Document(\n",
    "        page_content=page_content,\n",
    "        metadata=metadata,\n",
    "    )]\n",
    "\n",
    "    return langchain_document\n",
    "\n",
    "# transformed_document = transform_diffbot_to_langchain(diffbot_json)\n"
   ]
  },
  {
   "cell_type": "code",
   "execution_count": 22,
   "metadata": {},
   "outputs": [],
   "source": [
    "def get_data(target=None, api=None):\n",
    "    api = api or API # null coalescing in case no API specified, default to analyze\n",
    "    target = target or TARGET\n",
    "    res = requests.get(f\"https://api.diffbot.com/v3/{api}?url={target}&token={DIFFBOT_API_KEY}\")\n",
    "    ret = None\n",
    "    try:\n",
    "        ret = res.json()\n",
    "    except:\n",
    "        print(\"Bad response: \" + res.text)\n",
    "        print(res.status_code)\n",
    "        print(res.headers)\n",
    "    return ret"
   ]
  },
  {
   "cell_type": "code",
   "execution_count": 23,
   "metadata": {},
   "outputs": [],
   "source": [
    "diffbot_json = get_data(TARGET, 'article')\n"
   ]
  },
  {
   "cell_type": "code",
   "execution_count": 26,
   "metadata": {},
   "outputs": [
    {
     "name": "stdout",
     "output_type": "stream",
     "text": [
      "[Document(page_content=\"Michael Dell is chairman and chief executive officer of Dell Technologies, an innovator and technology leader providing the essential infrastructure for organizations to build their digital future, transform IT and protect their most important information.\\nWith revenue of more than $102B, Dell Technologies is one of the world’s largest IT companies serving the needs of global corporations and governments to small businesses and consumers. Dell Technologies’ commitment to ethics and privacy is a source of pride and inspiration within the company. Dell has been recognized as one of the World’s Most Ethical Companies by the Ethisphere Institute, and has also been recognized by Fortune as a Most Admired Company and Best Place to Work, by Forbes as one of America’s Best Employers For Women and by Newsweek as a Most Loved Workplace.\\nMichael’s story started when he founded Dell Technologies with $1000 in 1984 at the age of 19. Notably quoted as saying that “technology is about enabling human potential,” Michael’s vision of how technology should be designed, manufactured and sold forever changed the IT industry. In 1992, Michael became the youngest CEO ever to earn a ranking on the Fortune 500. Known and admired for his astute business vision and bold moves, Michael took Dell Technologies private in 2013, setting the stage to architect the largest technology deal in history with the combination of Dell, EMC and VMware in 2016 and the subsequent relisting of Dell Technologies on the public markets in 2018.\\nIn 1998, Michael formed MSD Capital, now DFO Management, a private investment firm that exclusively manages the capital for the Dell family. And in 1999, he and his wife, Susan Dell, established the Michael & Susan Dell Foundation to accelerate opportunity for children growing up in urban poverty in the U.S., India and South Africa.\\nMichael is an honorary member of the Foundation Board of the World Economic Forum and is an executive committee member of the International Business Council. He is also a member of the Technology CEO Council and the Business Roundtable. He serves on the advisory board of Tsinghua University's School of Economics and Management in Beijing, China and on the governing board of the Indian School of Business in Hyderabad, India. He is a board member of Catalyst and also served as the United Nations Foundation's first Global Advocate for Entrepreneurship. Michael is the author of two books, Direct from Dell and Play Nice But Win.\", metadata={'source': 'https://www.dell.com/en-us/dt/corporate/about-us/leadership/michael-dell.htm', 'sentiment': 0.903, 'entities': [{'label': 'Michael Dell', 'uri': 'https://diffbot.com/entity/EmoH9nUz3OQqDhxk05HanGg', 'sentiment': 0.887, 'rdfTypes': ['http://dbpedia.org/ontology/Person']}, {'label': 'Dell', 'uri': 'https://diffbot.com/entity/EZ4piKv4wOhOEwXA-o_tGKw', 'sentiment': 0.972, 'rdfTypes': ['http://dbpedia.org/ontology/Organisation']}], 'categories': [{'name': 'Technology & Computing', 'score': 0.626, 'id': 'iabv2-596'}], 'tags': [], 'images': ['https://i.dell.com/is/image/DellContent/content/dam/delltechnologies/assets/home/images/photos/MichaelDell.jpg?wid=1600&fit=constrain']})]\n"
     ]
    }
   ],
   "source": [
    "raw_documents = transform_diffbot_to_langchain(diffbot_json)\n",
    "print(raw_documents)"
   ]
  },
  {
   "cell_type": "code",
   "execution_count": 27,
   "metadata": {},
   "outputs": [],
   "source": [
    "graph_documents = DIFFBOT_NLP.convert_to_graph_documents(raw_documents)"
   ]
  },
  {
   "cell_type": "code",
   "execution_count": 28,
   "metadata": {},
   "outputs": [
    {
     "name": "stdout",
     "output_type": "stream",
     "text": [
      "[GraphDocument(nodes=[Node(id='http://www.wikidata.org/entity/Q218630', type='Person', properties={'name': 'Michael Dell', 'positionHeld': 'chairman', 'age': '19'}), Node(id='http://www.wikidata.org/entity/Q913740', type='Organization', properties={'name': 'Catalyst'}), Node(id='http://www.wikidata.org/entity/Q258', type='Location', properties={'name': 'South Africa'}), Node(id='http://www.wikidata.org/entity/Q1622260', type='Organization', properties={'name': 'United Nations Foundation'}), Node(id='http://www.wikidata.org/entity/Q16955', type='Organization', properties={'name': 'Tsinghua University'}), Node(id='http://www.wikidata.org/entity/Q668', type='Location', properties={'name': 'India'}), Node(id='http://www.wikidata.org/entity/Q30873', type='Organization', properties={'name': 'Dell', 'foundingDate': '1984'}), Node(id='Susan Dell', type='Person', properties={'name': 'Susan Dell'}), Node(id='http://www.wikidata.org/entity/Q956', type='Location', properties={'name': 'Beijing'}), Node(id='http://www.wikidata.org/entity/Q3273896', type='Organization', properties={'name': 'Indian School of Business (ISB)'}), Node(id='http://www.crunchbase.com/organization/technology-ceo-council', type='Organization', properties={'name': 'Technology CEO Council'}), Node(id='http://www.wikidata.org/entity/Q5001792', type='Organization', properties={'name': 'Business Roundtable'}), Node(id='http://www.wikidata.org/entity/Q148', type='Location', properties={'name': \"People's Republic of China\"}), Node(id='http://www.wikidata.org/entity/Q1361', type='Location', properties={'name': 'Hyderabad'}), Node(id='http://www.wikidata.org/entity/Q6717758', type='Organization', properties={'name': 'MSD Capital', 'foundingDate': '1998'}), Node(id='http://www.wikidata.org/entity/Q3075504', type='Organization', properties={'name': 'Michael & Susan Dell Foundation', 'foundingDate': '1999'}), Node(id='http://www.wikidata.org/entity/Q170418', type='Organization', properties={'name': 'World Economic Forum'})], relationships=[Relationship(source=Node(id='http://www.wikidata.org/entity/Q218630', type='Person'), target=Node(id='http://www.wikidata.org/entity/Q913740', type='Organization'), type='EMPLOYEE_OR_MEMBER_OF', properties={'evidence': \"He is a board member of Catalyst and also served as the United Nations Foundation's first Global Advocate for Entrepreneurship.\", 'isCurrent': 'true', 'positionHeld': 'board member'}), Relationship(source=Node(id='http://www.wikidata.org/entity/Q218630', type='Person'), target=Node(id='http://www.wikidata.org/entity/Q258', type='Location'), type='PERSON_LOCATION', properties={'evidence': 'And in 1999, he and his wife, Susan Dell, established the Michael & Susan Dell Foundation to accelerate opportunity for children growing up in urban poverty in the U.S., India and South Africa.'}), Relationship(source=Node(id='http://www.wikidata.org/entity/Q913740', type='Organization'), target=Node(id='http://www.wikidata.org/entity/Q218630', type='Person'), type='BOARD_MEMBER', properties={'evidence': \"He is a board member of Catalyst and also served as the United Nations Foundation's first Global Advocate for Entrepreneurship.\", 'isCurrent': 'true'}), Relationship(source=Node(id='http://www.wikidata.org/entity/Q218630', type='Person'), target=Node(id='http://www.wikidata.org/entity/Q1622260', type='Organization'), type='EMPLOYEE_OR_MEMBER_OF', properties={'evidence': \"He is a board member of Catalyst and also served as the United Nations Foundation's first Global Advocate for Entrepreneurship.\", 'isNotCurrent': 'true'}), Relationship(source=Node(id='http://www.wikidata.org/entity/Q16955', type='Organization'), target=Node(id='http://www.wikidata.org/entity/Q668', type='Location'), type='ORGANIZATION_LOCATIONS', properties={'evidence': \"He serves on the advisory board of Tsinghua University's School of Economics and Management in Beijing, China and on the governing board of the Indian School of Business in Hyderabad, India.\"}), Relationship(source=Node(id='http://www.wikidata.org/entity/Q218630', type='Person'), target=Node(id='Susan Dell', type='Person'), type='SPOUSE', properties={'evidence': 'And in 1999, he and his wife, Susan Dell, established the Michael & Susan Dell Foundation to accelerate opportunity for children growing up in urban poverty in the U.S., India and South Africa.', 'isCurrent': 'true', 'startTime': '1999'}), Relationship(source=Node(id='http://www.wikidata.org/entity/Q218630', type='Person'), target=Node(id='Susan Dell', type='Person'), type='FAMILY_MEMBER', properties={'evidence': 'And in 1999, he and his wife, Susan Dell, established the Michael & Susan Dell Foundation to accelerate opportunity for children growing up in urban poverty in the U.S., India and South Africa.', 'isCurrent': 'true', 'startTime': '1999'}), Relationship(source=Node(id='http://www.wikidata.org/entity/Q218630', type='Person'), target=Node(id='Susan Dell', type='Person'), type='SOCIAL_RELATIONSHIP', properties={'evidence': 'And in 1999, he and his wife, Susan Dell, established the Michael & Susan Dell Foundation to accelerate opportunity for children growing up in urban poverty in the U.S., India and South Africa.', 'isCurrent': 'true', 'startTime': '1999'}), Relationship(source=Node(id='http://www.wikidata.org/entity/Q218630', type='Person'), target=Node(id='Susan Dell', type='Person'), type='ROMANTIC_RELATIONSHIP', properties={'evidence': 'And in 1999, he and his wife, Susan Dell, established the Michael & Susan Dell Foundation to accelerate opportunity for children growing up in urban poverty in the U.S., India and South Africa.', 'isCurrent': 'true', 'startTime': '1999'}), Relationship(source=Node(id='http://www.wikidata.org/entity/Q218630', type='Person'), target=Node(id='Susan Dell', type='Person'), type='WORK_RELATIONSHIP', properties={'evidence': 'And in 1999, he and his wife, Susan Dell, established the Michael & Susan Dell Foundation to accelerate opportunity for children growing up in urban poverty in the U.S., India and South Africa.'}), Relationship(source=Node(id='http://www.wikidata.org/entity/Q16955', type='Organization'), target=Node(id='http://www.wikidata.org/entity/Q956', type='Location'), type='ORGANIZATION_LOCATIONS', properties={'evidence': \"He serves on the advisory board of Tsinghua University's School of Economics and Management in Beijing, China and on the governing board of the Indian School of Business in Hyderabad, India.\"}), Relationship(source=Node(id='http://www.wikidata.org/entity/Q3273896', type='Organization'), target=Node(id='http://www.wikidata.org/entity/Q668', type='Location'), type='ORGANIZATION_LOCATIONS', properties={'evidence': \"He serves on the advisory board of Tsinghua University's School of Economics and Management in Beijing, China and on the governing board of the Indian School of Business in Hyderabad, India.\", 'isCurrent': 'true'}), Relationship(source=Node(id='http://www.wikidata.org/entity/Q3273896', type='Organization'), target=Node(id='http://www.wikidata.org/entity/Q668', type='Location'), type='ORGANIZATION_LOCATIONS', properties={'evidence': \"He serves on the advisory board of Tsinghua University's School of Economics and Management in Beijing, China and on the governing board of the Indian School of Business in Hyderabad, India.\", 'isCurrent': 'true'}), Relationship(source=Node(id='http://www.wikidata.org/entity/Q218630', type='Person'), target=Node(id='http://www.crunchbase.com/organization/technology-ceo-council', type='Organization'), type='EMPLOYEE_OR_MEMBER_OF', properties={'evidence': 'Michael is an honorary member of the Foundation Board of the World Economic Forum and is an executive committee member of the International Business Council.', 'isCurrent': 'true'}), Relationship(source=Node(id='http://www.wikidata.org/entity/Q218630', type='Person'), target=Node(id='http://www.wikidata.org/entity/Q5001792', type='Organization'), type='EMPLOYEE_OR_MEMBER_OF', properties={'evidence': 'He is also a member of the Technology CEO Council and the Business Roundtable.', 'isCurrent': 'true'}), Relationship(source=Node(id='http://www.wikidata.org/entity/Q16955', type='Organization'), target=Node(id='http://www.wikidata.org/entity/Q148', type='Location'), type='ORGANIZATION_LOCATIONS', properties={'evidence': \"He serves on the advisory board of Tsinghua University's School of Economics and Management in Beijing, China and on the governing board of the Indian School of Business in Hyderabad, India.\"}), Relationship(source=Node(id='http://www.wikidata.org/entity/Q3273896', type='Organization'), target=Node(id='http://www.wikidata.org/entity/Q1361', type='Location'), type='ORGANIZATION_LOCATIONS', properties={'evidence': \"He serves on the advisory board of Tsinghua University's School of Economics and Management in Beijing, China and on the governing board of the Indian School of Business in Hyderabad, India.\", 'isCurrent': 'true'}), Relationship(source=Node(id='http://www.wikidata.org/entity/Q3273896', type='Organization'), target=Node(id='http://www.wikidata.org/entity/Q1361', type='Location'), type='ORGANIZATION_LOCATIONS', properties={'evidence': \"He serves on the advisory board of Tsinghua University's School of Economics and Management in Beijing, China and on the governing board of the Indian School of Business in Hyderabad, India.\", 'isCurrent': 'true'}), Relationship(source=Node(id='http://www.wikidata.org/entity/Q6717758', type='Organization'), target=Node(id='http://www.wikidata.org/entity/Q218630', type='Person'), type='FOUNDED_BY', properties={'evidence': 'In 1998, Michael formed MSD Capital, now DFO Management, a private investment firm that exclusively manages the capital for the Dell family.'}), Relationship(source=Node(id='http://www.wikidata.org/entity/Q30873', type='Organization'), target=Node(id='http://www.wikidata.org/entity/Q218630', type='Person'), type='FOUNDED_BY', properties={'evidence': 'Michael’s story started when he founded Dell Technologies with $1000 in 1984 at the age of 19.'}), Relationship(source=Node(id='http://www.wikidata.org/entity/Q30873', type='Organization'), target=Node(id='http://www.wikidata.org/entity/Q218630', type='Person'), type='CHIEF_EXECUTIVE_OFFICER', properties={'evidence': 'Michael Dell is chairman and chief executive officer of Dell Technologies, an innovator and technology leader providing the essential infrastructure for organizations to build their digital future, transform IT and protect their most important information.', 'isCurrent': 'true'}), Relationship(source=Node(id='http://www.wikidata.org/entity/Q218630', type='Person'), target=Node(id='http://www.wikidata.org/entity/Q16955', type='Organization'), type='EMPLOYEE_OR_MEMBER_OF', properties={'evidence': \"He serves on the advisory board of Tsinghua University's School of Economics and Management in Beijing, China and on the governing board of the Indian School of Business in Hyderabad, India.\", 'isCurrent': 'true'}), Relationship(source=Node(id='http://www.wikidata.org/entity/Q218630', type='Person'), target=Node(id='http://www.wikidata.org/entity/Q3273896', type='Organization'), type='EMPLOYEE_OR_MEMBER_OF', properties={'evidence': \"He serves on the advisory board of Tsinghua University's School of Economics and Management in Beijing, China and on the governing board of the Indian School of Business in Hyderabad, India.\", 'isCurrent': 'true'}), Relationship(source=Node(id='http://www.wikidata.org/entity/Q218630', type='Person'), target=Node(id='http://www.wikidata.org/entity/Q30873', type='Organization'), type='EMPLOYEE_OR_MEMBER_OF', properties={'evidence': 'Michael’s story started when he founded Dell Technologies with $1000 in 1984 at the age of 19.', 'isCurrent': 'true', 'positionHeld': 'chairman'}), Relationship(source=Node(id='http://www.wikidata.org/entity/Q218630', type='Person'), target=Node(id='http://www.wikidata.org/entity/Q30873', type='Organization'), type='EMPLOYEE_OR_MEMBER_OF', properties={'evidence': 'Michael’s story started when he founded Dell Technologies with $1000 in 1984 at the age of 19.', 'startTime': '1984'}), Relationship(source=Node(id='http://www.wikidata.org/entity/Q218630', type='Person'), target=Node(id='http://www.wikidata.org/entity/Q956', type='Location'), type='PERSON_LOCATION', properties={'evidence': \"He serves on the advisory board of Tsinghua University's School of Economics and Management in Beijing, China and on the governing board of the Indian School of Business in Hyderabad, India.\"}), Relationship(source=Node(id='http://www.wikidata.org/entity/Q218630', type='Person'), target=Node(id='http://www.wikidata.org/entity/Q148', type='Location'), type='PERSON_LOCATION', properties={'evidence': \"He serves on the advisory board of Tsinghua University's School of Economics and Management in Beijing, China and on the governing board of the Indian School of Business in Hyderabad, India.\"}), Relationship(source=Node(id='Susan Dell', type='Person'), target=Node(id='http://www.wikidata.org/entity/Q218630', type='Person'), type='SPOUSE', properties={'evidence': 'And in 1999, he and his wife, Susan Dell, established the Michael & Susan Dell Foundation to accelerate opportunity for children growing up in urban poverty in the U.S., India and South Africa.', 'isCurrent': 'true', 'startTime': '1999'}), Relationship(source=Node(id='Susan Dell', type='Person'), target=Node(id='http://www.wikidata.org/entity/Q218630', type='Person'), type='FAMILY_MEMBER', properties={'evidence': 'And in 1999, he and his wife, Susan Dell, established the Michael & Susan Dell Foundation to accelerate opportunity for children growing up in urban poverty in the U.S., India and South Africa.', 'isCurrent': 'true', 'startTime': '1999'}), Relationship(source=Node(id='Susan Dell', type='Person'), target=Node(id='http://www.wikidata.org/entity/Q218630', type='Person'), type='SOCIAL_RELATIONSHIP', properties={'evidence': 'And in 1999, he and his wife, Susan Dell, established the Michael & Susan Dell Foundation to accelerate opportunity for children growing up in urban poverty in the U.S., India and South Africa.', 'isCurrent': 'true', 'startTime': '1999'}), Relationship(source=Node(id='Susan Dell', type='Person'), target=Node(id='http://www.wikidata.org/entity/Q218630', type='Person'), type='ROMANTIC_RELATIONSHIP', properties={'evidence': 'And in 1999, he and his wife, Susan Dell, established the Michael & Susan Dell Foundation to accelerate opportunity for children growing up in urban poverty in the U.S., India and South Africa.', 'isCurrent': 'true', 'startTime': '1999'}), Relationship(source=Node(id='Susan Dell', type='Person'), target=Node(id='http://www.wikidata.org/entity/Q218630', type='Person'), type='WORK_RELATIONSHIP', properties={'evidence': 'And in 1999, he and his wife, Susan Dell, established the Michael & Susan Dell Foundation to accelerate opportunity for children growing up in urban poverty in the U.S., India and South Africa.'}), Relationship(source=Node(id='http://www.wikidata.org/entity/Q218630', type='Person'), target=Node(id='http://www.wikidata.org/entity/Q3075504', type='Organization'), type='EMPLOYEE_OR_MEMBER_OF', properties={'evidence': 'Michael is an honorary member of the Foundation Board of the World Economic Forum and is an executive committee member of the International Business Council.', 'isCurrent': 'true'}), Relationship(source=Node(id='http://www.wikidata.org/entity/Q218630', type='Person'), target=Node(id='http://www.wikidata.org/entity/Q170418', type='Organization'), type='EMPLOYEE_OR_MEMBER_OF', properties={'evidence': 'Michael is an honorary member of the Foundation Board of the World Economic Forum and is an executive committee member of the International Business Council.', 'isCurrent': 'true'}), Relationship(source=Node(id='http://www.wikidata.org/entity/Q16955', type='Organization'), target=Node(id='http://www.wikidata.org/entity/Q218630', type='Person'), type='BOARD_MEMBER', properties={'evidence': \"He serves on the advisory board of Tsinghua University's School of Economics and Management in Beijing, China and on the governing board of the Indian School of Business in Hyderabad, India.\", 'isCurrent': 'true'}), Relationship(source=Node(id='http://www.wikidata.org/entity/Q3075504', type='Organization'), target=Node(id='http://www.wikidata.org/entity/Q218630', type='Person'), type='FOUNDED_BY', properties={'evidence': 'And in 1999, he and his wife, Susan Dell, established the Michael & Susan Dell Foundation to accelerate opportunity for children growing up in urban poverty in the U.S., India and South Africa.'}), Relationship(source=Node(id='http://www.wikidata.org/entity/Q3075504', type='Organization'), target=Node(id='http://www.wikidata.org/entity/Q218630', type='Person'), type='BOARD_MEMBER', properties={'evidence': 'Michael is an honorary member of the Foundation Board of the World Economic Forum and is an executive committee member of the International Business Council.', 'isCurrent': 'true'}), Relationship(source=Node(id='http://www.wikidata.org/entity/Q218630', type='Person'), target=Node(id='http://www.wikidata.org/entity/Q6717758', type='Organization'), type='EMPLOYEE_OR_MEMBER_OF', properties={'evidence': 'In 1998, Michael formed MSD Capital, now DFO Management, a private investment firm that exclusively manages the capital for the Dell family.', 'startTime': '1998'}), Relationship(source=Node(id='http://www.wikidata.org/entity/Q3273896', type='Organization'), target=Node(id='http://www.wikidata.org/entity/Q218630', type='Person'), type='BOARD_MEMBER', properties={'evidence': \"He serves on the advisory board of Tsinghua University's School of Economics and Management in Beijing, China and on the governing board of the Indian School of Business in Hyderabad, India.\", 'isCurrent': 'true'})], source=Document(page_content=\"Michael Dell is chairman and chief executive officer of Dell Technologies, an innovator and technology leader providing the essential infrastructure for organizations to build their digital future, transform IT and protect their most important information.\\nWith revenue of more than $102B, Dell Technologies is one of the world’s largest IT companies serving the needs of global corporations and governments to small businesses and consumers. Dell Technologies’ commitment to ethics and privacy is a source of pride and inspiration within the company. Dell has been recognized as one of the World’s Most Ethical Companies by the Ethisphere Institute, and has also been recognized by Fortune as a Most Admired Company and Best Place to Work, by Forbes as one of America’s Best Employers For Women and by Newsweek as a Most Loved Workplace.\\nMichael’s story started when he founded Dell Technologies with $1000 in 1984 at the age of 19. Notably quoted as saying that “technology is about enabling human potential,” Michael’s vision of how technology should be designed, manufactured and sold forever changed the IT industry. In 1992, Michael became the youngest CEO ever to earn a ranking on the Fortune 500. Known and admired for his astute business vision and bold moves, Michael took Dell Technologies private in 2013, setting the stage to architect the largest technology deal in history with the combination of Dell, EMC and VMware in 2016 and the subsequent relisting of Dell Technologies on the public markets in 2018.\\nIn 1998, Michael formed MSD Capital, now DFO Management, a private investment firm that exclusively manages the capital for the Dell family. And in 1999, he and his wife, Susan Dell, established the Michael & Susan Dell Foundation to accelerate opportunity for children growing up in urban poverty in the U.S., India and South Africa.\\nMichael is an honorary member of the Foundation Board of the World Economic Forum and is an executive committee member of the International Business Council. He is also a member of the Technology CEO Council and the Business Roundtable. He serves on the advisory board of Tsinghua University's School of Economics and Management in Beijing, China and on the governing board of the Indian School of Business in Hyderabad, India. He is a board member of Catalyst and also served as the United Nations Foundation's first Global Advocate for Entrepreneurship. Michael is the author of two books, Direct from Dell and Play Nice But Win.\", metadata={'source': 'https://www.dell.com/en-us/dt/corporate/about-us/leadership/michael-dell.htm', 'sentiment': 0.903, 'entities': [{'label': 'Michael Dell', 'uri': 'https://diffbot.com/entity/EmoH9nUz3OQqDhxk05HanGg', 'sentiment': 0.887, 'rdfTypes': ['http://dbpedia.org/ontology/Person']}, {'label': 'Dell', 'uri': 'https://diffbot.com/entity/EZ4piKv4wOhOEwXA-o_tGKw', 'sentiment': 0.972, 'rdfTypes': ['http://dbpedia.org/ontology/Organisation']}], 'categories': [{'name': 'Technology & Computing', 'score': 0.626, 'id': 'iabv2-596'}], 'tags': [], 'images': ['https://i.dell.com/is/image/DellContent/content/dam/delltechnologies/assets/home/images/photos/MichaelDell.jpg?wid=1600&fit=constrain']}))]\n"
     ]
    }
   ],
   "source": [
    "print(graph_documents)"
   ]
  },
  {
   "cell_type": "code",
   "execution_count": null,
   "metadata": {},
   "outputs": [],
   "source": [
    "# observe raw doc retrieval from wiki\n",
    "print(raw_documents)"
   ]
  },
  {
   "cell_type": "markdown",
   "metadata": {},
   "source": [
    "#### Load a docker container to explore graph via GUI"
   ]
  },
  {
   "cell_type": "code",
   "execution_count": null,
   "metadata": {},
   "outputs": [],
   "source": [
    "# get a docker going via CLI\n",
    "# docker run \\\n",
    "#    --name neo4j \\\n",
    "#    -p 7474:7474 -p 7687:7687 \\\n",
    "#    -d \\\n",
    "#    -e NEO4J_AUTH=neo4j/pleaseletmein \\\n",
    "#    -e NEO4J_PLUGINS=\\[\\\"apoc\\\"\\]  \\\n",
    "#    neo4j:latest"
   ]
  },
  {
   "cell_type": "code",
   "execution_count": null,
   "metadata": {},
   "outputs": [],
   "source": [
    "from langchain_community.graphs import Neo4jGraph\n",
    "\n",
    "# if running docker in WSL, command wsl hostname -I to get WSL IP\n",
    "# neo4j gui port is 7474\n",
    "docker_ip = 'localhost'\n",
    "url = f\"bolt://{docker_ip}:7687\"\n",
    "username = \"neo4j\"\n",
    "password = \"pleaseletmein\"\n",
    "\n",
    "graph = Neo4jGraph(url=url, username=username, password=password)"
   ]
  },
  {
   "cell_type": "markdown",
   "metadata": {},
   "source": [
    "Load GraphDocuments into the docker knowledge graph then refresh graph schema"
   ]
  },
  {
   "cell_type": "code",
   "execution_count": null,
   "metadata": {},
   "outputs": [],
   "source": [
    "graph.add_graph_documents(graph_documents)"
   ]
  },
  {
   "cell_type": "code",
   "execution_count": null,
   "metadata": {},
   "outputs": [],
   "source": [
    "graph.refresh_schema()"
   ]
  },
  {
   "cell_type": "code",
   "execution_count": null,
   "metadata": {},
   "outputs": [],
   "source": [
    "print(graph.schema)"
   ]
  },
  {
   "cell_type": "code",
   "execution_count": null,
   "metadata": {},
   "outputs": [],
   "source": [
    "# test a graph query manually to verify connectivity before burning OpenAI calls\n",
    "graph.query(\n",
    "    \"\"\"\n",
    "MATCH p=()-[r:CHIEF_EXECUTIVE_OFFICER]->() RETURN p LIMIT 25\n",
    "\"\"\"\n",
    ")"
   ]
  },
  {
   "cell_type": "markdown",
   "metadata": {},
   "source": [
    "Log into Neo4J by navigating to http://\\{docker ip}/7474 and logging in with credentials set above. To view the graph, you can run a simple query of `MATCH (n) RETURN n LIMIT 25`"
   ]
  },
  {
   "cell_type": "markdown",
   "metadata": {},
   "source": [
    "#### Query the graph"
   ]
  },
  {
   "cell_type": "code",
   "execution_count": null,
   "metadata": {},
   "outputs": [],
   "source": [
    "from langchain.chains import GraphCypherQAChain\n",
    "from langchain_openai import ChatOpenAI\n",
    "\n",
    "chain = GraphCypherQAChain.from_llm(\n",
    "    cypher_llm=ChatOpenAI(temperature=0, model_name=\"gpt-4-0125-preview\"),\n",
    "    qa_llm=ChatOpenAI(temperature=.3, model_name=\"gpt-3.5-turbo\"),\n",
    "    graph=graph,\n",
    "    verbose=True,\n",
    ")"
   ]
  },
  {
   "cell_type": "code",
   "execution_count": null,
   "metadata": {},
   "outputs": [],
   "source": [
    "chain.run(\"Does Elon Musk have kids?\")\n"
   ]
  }
 ],
 "metadata": {
  "kernelspec": {
   "display_name": "saas-dev",
   "language": "python",
   "name": "python3"
  },
  "language_info": {
   "codemirror_mode": {
    "name": "ipython",
    "version": 3
   },
   "file_extension": ".py",
   "mimetype": "text/x-python",
   "name": "python",
   "nbconvert_exporter": "python",
   "pygments_lexer": "ipython3",
   "version": "3.11.5"
  }
 },
 "nbformat": 4,
 "nbformat_minor": 2
}
