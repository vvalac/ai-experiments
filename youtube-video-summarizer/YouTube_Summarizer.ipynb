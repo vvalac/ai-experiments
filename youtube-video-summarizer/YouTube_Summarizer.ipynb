{
  "nbformat": 4,
  "nbformat_minor": 0,
  "metadata": {
    "colab": {
      "provenance": []
    },
    "kernelspec": {
      "name": "python3",
      "display_name": "Python 3"
    },
    "language_info": {
      "name": "python"
    }
  },
  "cells": [
    {
      "cell_type": "markdown",
      "source": [
        "# YouTube Summarizer\n",
        "### Working with small LangChain Agent Systems\n",
        "In this notebook, we are going to create a langchain agent that will summarize a video when passed a YouTube URL."
      ],
      "metadata": {
        "id": "T7EEiwWZiOM2"
      }
    },
    {
      "cell_type": "code",
      "execution_count": null,
      "metadata": {
        "id": "PfXKL6tfu_f7"
      },
      "outputs": [],
      "source": [
        "!pip install openai langchain langchain-openai youtube-transcript-api"
      ]
    },
    {
      "cell_type": "markdown",
      "source": [
        "### Initial Experimentation\n",
        "Below, I'm starting to mess around with just grabbing the raw text from a youtube video"
      ],
      "metadata": {
        "id": "97VJTNxR0u50"
      }
    },
    {
      "cell_type": "code",
      "source": [
        "from youtube_transcript_api import YouTubeTranscriptApi\n",
        "\n",
        "video_id = '_fe0Acsr33M'\n",
        "raw_transcript = YouTubeTranscriptApi.get_transcript(video_id)\n"
      ],
      "metadata": {
        "id": "peT8yD-bvRgD"
      },
      "execution_count": null,
      "outputs": []
    },
    {
      "cell_type": "code",
      "source": [
        "import re\n",
        "\n",
        "full_text = \" \".join([item[\"text\"] for item in raw_transcript])\n",
        "clean_text = re.sub(r'\\[.*?\\]', '', full_text)\n",
        "\n",
        "print(clean_text)"
      ],
      "metadata": {
        "id": "27xF1btCw1_G"
      },
      "execution_count": null,
      "outputs": []
    },
    {
      "cell_type": "markdown",
      "source": [
        "## Next Steps\n",
        "Since that works, I'm now going to set up my AI envrionment with OpenAI access and Langchain tools to get an agentic workflow going"
      ],
      "metadata": {
        "id": "cm-wQjiz016q"
      }
    },
    {
      "cell_type": "code",
      "source": [
        "import os\n",
        "from getpass import getpass\n",
        "from semantic_router.encoders import OpenAIEncoder\n",
        "os.environ[\"OPENAI_API_KEY\"] = os.getenv(\"OPENAI_API_KEY\") or getpass(\"OpenAI API Key:\")\n",
        "\n",
        "encoder = OpenAIEncoder(name=\"text-embedding-3-small\")"
      ],
      "metadata": {
        "id": "MShHoCFtxApc"
      },
      "execution_count": null,
      "outputs": []
    },
    {
      "cell_type": "code",
      "source": [
        "from typing import TypedDict, Annotated, List, Union\n",
        "from langchain_core.agents import AgentAction, AgentFinish\n",
        "from langchain_core.messages import BaseMessage\n",
        "import operator\n",
        "\n",
        "class AgentState(TypedDict):\n",
        "  input: str\n",
        "  chat_history: list[BaseMessage]\n",
        "  intermediate_steps: Annotated[list[tuple[AgentAction, str]], operator.add]\n",
        "\n"
      ],
      "metadata": {
        "id": "HCQ_o8myyHdd"
      },
      "execution_count": null,
      "outputs": []
    },
    {
      "cell_type": "markdown",
      "source": [
        "## Now we start building the actual tools we will use in the workflow"
      ],
      "metadata": {
        "id": "hFmwo9LU0_sg"
      }
    },
    {
      "cell_type": "code",
      "source": [
        "from langchain_core.tools import tool\n",
        "\n",
        "@tool(\"fetch_transcript\")\n",
        "def fetch_transcript(url: str) -> Union[str, ValueError] :\n",
        "  \"\"\"Gets the transcript from a Youtube video, when passed the video's URL\"\"\"\n",
        "\n",
        "  match = re.search(r'(?:v=|\\/)([0-9A-Za-z_-]{11})', url)\n",
        "  video_id = match.group(1)\n",
        "\n",
        "  if not video_id:\n",
        "    return ValueError(\"No video matches that URL\")\n",
        "\n",
        "  raw_transcript = YouTubeTranscriptApi.get_transcript(video_id)\n",
        "  full_text = \" \".join([item[\"text\"] for item in raw_transcript])\n",
        "  transcript = re.sub(r'\\[.*?\\]', '', full_text)\n",
        "\n",
        "  return transcript"
      ],
      "metadata": {
        "id": "HXDIwFxJyZeq"
      },
      "execution_count": null,
      "outputs": []
    },
    {
      "cell_type": "markdown",
      "source": [
        "To test the tool, you can run .invoke. You can also verify your parameters by printing out .name, .args, and .description"
      ],
      "metadata": {
        "id": "UI_9A5_l1EIZ"
      }
    },
    {
      "cell_type": "code",
      "source": [
        "target_url = 'https://www.youtube.com/watch?v=_fe0Acsr33M'\n",
        "print(\n",
        "    f'{fetch_transcript.name} /n {fetch_transcript.args} \\n {fetch_transcript.description}'\n",
        "    # fetch_transcript.invoke(input={\"url\": 'https://www.youtube.com/watch?v=_fe0Acsr33M'})\n",
        ")"
      ],
      "metadata": {
        "id": "UeklyU2G0AC_"
      },
      "execution_count": null,
      "outputs": []
    },
    {
      "cell_type": "code",
      "source": [
        "print(fetch_transcript.invoke(input={\"url\": target_url}))"
      ],
      "metadata": {
        "id": "MRr6Fkqg0Is1"
      },
      "execution_count": null,
      "outputs": []
    },
    {
      "cell_type": "markdown",
      "source": [
        "## Build the Chain to use your tools\n",
        "Now we can start setting up the LLM to use our tools and create the langchain chain. First we hardcode test to see if the agent will run the tool like we want."
      ],
      "metadata": {
        "id": "XseRF5p0aPeX"
      }
    },
    {
      "cell_type": "code",
      "source": [
        "from langchain_openai import ChatOpenAI\n",
        "from langchain.agents import AgentExecutor, create_tool_calling_agent\n",
        "from langchain.prompts import ChatPromptTemplate, SystemMessagePromptTemplate, HumanMessagePromptTemplate, MessagesPlaceholder, PromptTemplate\n",
        "\n",
        "\n",
        "llm = ChatOpenAI(model=\"gpt-4o\")\n",
        "llm_with_tools = llm.bind_tools([fetch_transcript])"
      ],
      "metadata": {
        "id": "Ku39YDp5aXqz"
      },
      "execution_count": null,
      "outputs": []
    },
    {
      "cell_type": "code",
      "source": [
        "msg = llm_with_tools.invoke(f'what does dave talk about in {target_url}?')\n",
        "msg.tool_calls"
      ],
      "metadata": {
        "id": "Fhx23urOaoQk"
      },
      "execution_count": null,
      "outputs": []
    },
    {
      "cell_type": "markdown",
      "source": [
        "Since that all looks good, we build up our prompt. It's critical to have chat_history and agent_scratchpad as placeholders due to back-end requirements for langchain agents. The system message can be anything."
      ],
      "metadata": {
        "id": "HimMCqcqglXy"
      }
    },
    {
      "cell_type": "code",
      "source": [
        "system_message = SystemMessagePromptTemplate(\n",
        "    prompt=PromptTemplate(\n",
        "        input_variables=[],\n",
        "        input_types={},\n",
        "        partial_variables={},\n",
        "        template='You are a helpful assistant that summarizes YouTube videos.'\n",
        "    ),\n",
        "    additional_kwargs={}\n",
        ")\n",
        "\n",
        "human_message = HumanMessagePromptTemplate(\n",
        "    prompt=PromptTemplate(\n",
        "        input_variables=['input'],\n",
        "        input_types={},\n",
        "        partial_variables={},\n",
        "        template='{input}'\n",
        "    ),\n",
        "    additional_kwargs={}\n",
        ")\n",
        "\n",
        "# Create the ChatPromptTemplate with placeholders for chat history and agent scratchpad\n",
        "prompt = ChatPromptTemplate.from_messages([\n",
        "    system_message,\n",
        "    MessagesPlaceholder(variable_name='chat_history', optional=True),\n",
        "    human_message,\n",
        "    MessagesPlaceholder(variable_name='agent_scratchpad')\n",
        "])\n",
        "\n",
        "# Define tools and create the agent and agent executor\n",
        "tools = [fetch_transcript]\n",
        "agent = create_tool_calling_agent(llm, tools, prompt)\n",
        "agent_executor = AgentExecutor(agent=agent, tools=tools, verbose=True)\n"
      ],
      "metadata": {
        "id": "ZOoSr2S3dUO4"
      },
      "execution_count": null,
      "outputs": []
    },
    {
      "cell_type": "markdown",
      "source": [
        "Let's run it!"
      ],
      "metadata": {
        "id": "9pa2x_JWhXf5"
      }
    },
    {
      "cell_type": "code",
      "source": [
        "user_prompt = f'what does dave talk about in {target_url}?'\n",
        "\n",
        "agent_executor.invoke(\n",
        "    {\n",
        "        \"input\": user_prompt\n",
        "    }\n",
        ")"
      ],
      "metadata": {
        "id": "QFta4zvmhZDT"
      },
      "execution_count": null,
      "outputs": []
    }
  ]
}