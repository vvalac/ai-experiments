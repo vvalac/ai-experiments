{
 "cells": [
  {
   "cell_type": "code",
   "execution_count": 1,
   "metadata": {},
   "outputs": [],
   "source": [
    "import asyncio\n",
    "from autogen_agentchat.agents import AssistantAgent\n",
    "from autogen_agentchat.ui import Console\n",
    "from autogen_agentchat.conditions import TextMentionTermination\n",
    "from autogen_agentchat.teams import RoundRobinGroupChat\n",
    "from autogen_ext.models.openai import OpenAIChatCompletionClient \n",
    "import dotenv\n",
    "import requests\n",
    "from bs4 import BeautifulSoup\n",
    "import re\n",
    "import datetime\n"
   ]
  },
  {
   "cell_type": "code",
   "execution_count": 2,
   "metadata": {},
   "outputs": [],
   "source": [
    "oai_api_key = dotenv.get_key('.env.local', 'OPENAI_API_KEY')"
   ]
  },
  {
   "cell_type": "code",
   "execution_count": 3,
   "metadata": {},
   "outputs": [],
   "source": [
    "async def get_abasin_info() -> str:\n",
    "    f\"\"\"Get raw conditions data from Arapahoe Basin's website.\"\"\"\n",
    "    response = requests.get('https://www.arapahoebasin.com/snow-report/')\n",
    "    if response.status_code == 200:\n",
    "        soup = BeautifulSoup(response.text, 'html.parser')\n",
    "        condition_divs = soup.find_all('div', class_=['conditions', 'weather'])\n",
    "        return condition_divs\n",
    "    return []"
   ]
  },
  {
   "cell_type": "code",
   "execution_count": null,
   "metadata": {},
   "outputs": [],
   "source": [
    "results = await get_abasin_info()\n",
    "print(results)"
   ]
  },
  {
   "cell_type": "code",
   "execution_count": 6,
   "metadata": {},
   "outputs": [],
   "source": [
    "async def main() -> None:\n",
    "    current_date = datetime.datetime.now().strftime(\"%Y-%m-%d\")\n",
    "    abasin_agent = AssistantAgent(\n",
    "        name=\"abasin_agent\",\n",
    "        model_client=OpenAIChatCompletionClient(\n",
    "            model=\"gpt-4o\",\n",
    "            api_key=oai_api_key,\n",
    "        ),\n",
    "        tools=[get_abasin_info],\n",
    "        system_message=f\"Return a short conditions assessment followed by a markdown summary of A Basin's conditions. The current date is {current_date}.\",\n",
    "    )\n",
    "\n",
    "    ski_agent = AssistantAgent(\n",
    "        name=\"ski_agent\",\n",
    "        model_client=OpenAIChatCompletionClient(\n",
    "            model=\"gpt-4o\",\n",
    "            api_key=oai_api_key,\n",
    "        ),\n",
    "        tools=[],\n",
    "        system_message=f\"Describe why or why the user should not go skiing at a given time. The current date is {current_date}.\",\n",
    "    )\n",
    "\n",
    "    termination = TextMentionTermination(\"TERMINATE\")\n",
    "    agent_team = RoundRobinGroupChat([ski_agent, abasin_agent], termination_condition=termination)\n",
    "\n",
    "    stream = agent_team.run_stream(task=\"Should I go ski tomorrow?\")\n",
    "    await Console(stream)"
   ]
  },
  {
   "cell_type": "code",
   "execution_count": null,
   "metadata": {},
   "outputs": [],
   "source": [
    "await main()"
   ]
  }
 ],
 "metadata": {
  "kernelspec": {
   "display_name": "autogen",
   "language": "python",
   "name": "python3"
  },
  "language_info": {
   "codemirror_mode": {
    "name": "ipython",
    "version": 3
   },
   "file_extension": ".py",
   "mimetype": "text/x-python",
   "name": "python",
   "nbconvert_exporter": "python",
   "pygments_lexer": "ipython3",
   "version": "3.12.8"
  }
 },
 "nbformat": 4,
 "nbformat_minor": 2
}
